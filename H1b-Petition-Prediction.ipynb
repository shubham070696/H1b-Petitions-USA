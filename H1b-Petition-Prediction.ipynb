{
 "cells": [
  {
   "cell_type": "markdown",
   "metadata": {},
   "source": [
    "# Importing Libraries"
   ]
  },
  {
   "cell_type": "code",
   "execution_count": 1,
   "metadata": {},
   "outputs": [],
   "source": [
    "import numpy as np\n",
    "import pandas as pd\n",
    "import matplotlib.pyplot as plt\n",
    "import seaborn as sns\n",
    "%matplotlib inline"
   ]
  },
  {
   "cell_type": "code",
   "execution_count": 2,
   "metadata": {},
   "outputs": [],
   "source": [
    "import warnings\n",
    "warnings.filterwarnings(\"ignore\")"
   ]
  },
  {
   "cell_type": "code",
   "execution_count": 3,
   "metadata": {},
   "outputs": [],
   "source": [
    "def findCategoricalCol(df):\n",
    "    cols=[]\n",
    "    for col in df.columns:\n",
    "        if df[col].dtype == object:\n",
    "            cols.append(col)\n",
    "    return cols"
   ]
  },
  {
   "cell_type": "code",
   "execution_count": 4,
   "metadata": {},
   "outputs": [
    {
     "data": {
      "text/html": [
       "<div>\n",
       "<style scoped>\n",
       "    .dataframe tbody tr th:only-of-type {\n",
       "        vertical-align: middle;\n",
       "    }\n",
       "\n",
       "    .dataframe tbody tr th {\n",
       "        vertical-align: top;\n",
       "    }\n",
       "\n",
       "    .dataframe thead th {\n",
       "        text-align: right;\n",
       "    }\n",
       "</style>\n",
       "<table border=\"1\" class=\"dataframe\">\n",
       "  <thead>\n",
       "    <tr style=\"text-align: right;\">\n",
       "      <th></th>\n",
       "      <th>Unnamed: 0</th>\n",
       "      <th>CASE_STATUS</th>\n",
       "      <th>EMPLOYER_NAME</th>\n",
       "      <th>SOC_NAME</th>\n",
       "      <th>JOB_TITLE</th>\n",
       "      <th>FULL_TIME_POSITION</th>\n",
       "      <th>PREVAILING_WAGE</th>\n",
       "      <th>YEAR</th>\n",
       "      <th>WORKSITE</th>\n",
       "      <th>lon</th>\n",
       "      <th>lat</th>\n",
       "    </tr>\n",
       "  </thead>\n",
       "  <tbody>\n",
       "    <tr>\n",
       "      <td>0</td>\n",
       "      <td>1</td>\n",
       "      <td>CERTIFIED-WITHDRAWN</td>\n",
       "      <td>UNIVERSITY OF MICHIGAN</td>\n",
       "      <td>BIOCHEMISTS AND BIOPHYSICISTS</td>\n",
       "      <td>POSTDOCTORAL RESEARCH FELLOW</td>\n",
       "      <td>N</td>\n",
       "      <td>36067.0</td>\n",
       "      <td>2016.0</td>\n",
       "      <td>ANN ARBOR, MICHIGAN</td>\n",
       "      <td>-83.743038</td>\n",
       "      <td>42.280826</td>\n",
       "    </tr>\n",
       "    <tr>\n",
       "      <td>1</td>\n",
       "      <td>2</td>\n",
       "      <td>CERTIFIED-WITHDRAWN</td>\n",
       "      <td>GOODMAN NETWORKS, INC.</td>\n",
       "      <td>CHIEF EXECUTIVES</td>\n",
       "      <td>CHIEF OPERATING OFFICER</td>\n",
       "      <td>Y</td>\n",
       "      <td>242674.0</td>\n",
       "      <td>2016.0</td>\n",
       "      <td>PLANO, TEXAS</td>\n",
       "      <td>-96.698886</td>\n",
       "      <td>33.019843</td>\n",
       "    </tr>\n",
       "    <tr>\n",
       "      <td>2</td>\n",
       "      <td>3</td>\n",
       "      <td>CERTIFIED-WITHDRAWN</td>\n",
       "      <td>PORTS AMERICA GROUP, INC.</td>\n",
       "      <td>CHIEF EXECUTIVES</td>\n",
       "      <td>CHIEF PROCESS OFFICER</td>\n",
       "      <td>Y</td>\n",
       "      <td>193066.0</td>\n",
       "      <td>2016.0</td>\n",
       "      <td>JERSEY CITY, NEW JERSEY</td>\n",
       "      <td>-74.077642</td>\n",
       "      <td>40.728158</td>\n",
       "    </tr>\n",
       "    <tr>\n",
       "      <td>3</td>\n",
       "      <td>4</td>\n",
       "      <td>CERTIFIED-WITHDRAWN</td>\n",
       "      <td>GATES CORPORATION, A WHOLLY-OWNED SUBSIDIARY O...</td>\n",
       "      <td>CHIEF EXECUTIVES</td>\n",
       "      <td>REGIONAL PRESIDEN, AMERICAS</td>\n",
       "      <td>Y</td>\n",
       "      <td>220314.0</td>\n",
       "      <td>2016.0</td>\n",
       "      <td>DENVER, COLORADO</td>\n",
       "      <td>-104.990251</td>\n",
       "      <td>39.739236</td>\n",
       "    </tr>\n",
       "    <tr>\n",
       "      <td>4</td>\n",
       "      <td>5</td>\n",
       "      <td>WITHDRAWN</td>\n",
       "      <td>PEABODY INVESTMENTS CORP.</td>\n",
       "      <td>CHIEF EXECUTIVES</td>\n",
       "      <td>PRESIDENT MONGOLIA AND INDIA</td>\n",
       "      <td>Y</td>\n",
       "      <td>157518.4</td>\n",
       "      <td>2016.0</td>\n",
       "      <td>ST. LOUIS, MISSOURI</td>\n",
       "      <td>-90.199404</td>\n",
       "      <td>38.627003</td>\n",
       "    </tr>\n",
       "  </tbody>\n",
       "</table>\n",
       "</div>"
      ],
      "text/plain": [
       "   Unnamed: 0          CASE_STATUS  \\\n",
       "0           1  CERTIFIED-WITHDRAWN   \n",
       "1           2  CERTIFIED-WITHDRAWN   \n",
       "2           3  CERTIFIED-WITHDRAWN   \n",
       "3           4  CERTIFIED-WITHDRAWN   \n",
       "4           5            WITHDRAWN   \n",
       "\n",
       "                                       EMPLOYER_NAME  \\\n",
       "0                             UNIVERSITY OF MICHIGAN   \n",
       "1                             GOODMAN NETWORKS, INC.   \n",
       "2                          PORTS AMERICA GROUP, INC.   \n",
       "3  GATES CORPORATION, A WHOLLY-OWNED SUBSIDIARY O...   \n",
       "4                          PEABODY INVESTMENTS CORP.   \n",
       "\n",
       "                        SOC_NAME                     JOB_TITLE  \\\n",
       "0  BIOCHEMISTS AND BIOPHYSICISTS  POSTDOCTORAL RESEARCH FELLOW   \n",
       "1               CHIEF EXECUTIVES       CHIEF OPERATING OFFICER   \n",
       "2               CHIEF EXECUTIVES         CHIEF PROCESS OFFICER   \n",
       "3               CHIEF EXECUTIVES   REGIONAL PRESIDEN, AMERICAS   \n",
       "4               CHIEF EXECUTIVES  PRESIDENT MONGOLIA AND INDIA   \n",
       "\n",
       "  FULL_TIME_POSITION  PREVAILING_WAGE    YEAR                 WORKSITE  \\\n",
       "0                  N          36067.0  2016.0      ANN ARBOR, MICHIGAN   \n",
       "1                  Y         242674.0  2016.0             PLANO, TEXAS   \n",
       "2                  Y         193066.0  2016.0  JERSEY CITY, NEW JERSEY   \n",
       "3                  Y         220314.0  2016.0         DENVER, COLORADO   \n",
       "4                  Y         157518.4  2016.0      ST. LOUIS, MISSOURI   \n",
       "\n",
       "          lon        lat  \n",
       "0  -83.743038  42.280826  \n",
       "1  -96.698886  33.019843  \n",
       "2  -74.077642  40.728158  \n",
       "3 -104.990251  39.739236  \n",
       "4  -90.199404  38.627003  "
      ]
     },
     "execution_count": 4,
     "metadata": {},
     "output_type": "execute_result"
    }
   ],
   "source": [
    "h1b_data = pd.read_csv('h1b_kaggle.csv')\n",
    "h1b_data.head()"
   ]
  },
  {
   "cell_type": "code",
   "execution_count": 5,
   "metadata": {},
   "outputs": [
    {
     "data": {
      "text/plain": [
       "3002458"
      ]
     },
     "execution_count": 5,
     "metadata": {},
     "output_type": "execute_result"
    }
   ],
   "source": [
    "len(h1b_data)"
   ]
  },
  {
   "cell_type": "code",
   "execution_count": 6,
   "metadata": {},
   "outputs": [
    {
     "data": {
      "text/plain": [
       "Index(['Unnamed: 0', 'CASE_STATUS', 'EMPLOYER_NAME', 'SOC_NAME', 'JOB_TITLE',\n",
       "       'FULL_TIME_POSITION', 'PREVAILING_WAGE', 'YEAR', 'WORKSITE', 'lon',\n",
       "       'lat'],\n",
       "      dtype='object')"
      ]
     },
     "execution_count": 6,
     "metadata": {},
     "output_type": "execute_result"
    }
   ],
   "source": [
    "h1b_data.columns"
   ]
  },
  {
   "cell_type": "code",
   "execution_count": 7,
   "metadata": {},
   "outputs": [],
   "source": [
    "h1b_data=h1b_data.drop('Unnamed: 0',axis=1)"
   ]
  },
  {
   "cell_type": "code",
   "execution_count": 8,
   "metadata": {},
   "outputs": [
    {
     "data": {
      "text/html": [
       "<div>\n",
       "<style scoped>\n",
       "    .dataframe tbody tr th:only-of-type {\n",
       "        vertical-align: middle;\n",
       "    }\n",
       "\n",
       "    .dataframe tbody tr th {\n",
       "        vertical-align: top;\n",
       "    }\n",
       "\n",
       "    .dataframe thead th {\n",
       "        text-align: right;\n",
       "    }\n",
       "</style>\n",
       "<table border=\"1\" class=\"dataframe\">\n",
       "  <thead>\n",
       "    <tr style=\"text-align: right;\">\n",
       "      <th></th>\n",
       "      <th>CASE_STATUS</th>\n",
       "      <th>EMPLOYER_NAME</th>\n",
       "      <th>SOC_NAME</th>\n",
       "      <th>JOB_TITLE</th>\n",
       "      <th>FULL_TIME_POSITION</th>\n",
       "      <th>PREVAILING_WAGE</th>\n",
       "      <th>YEAR</th>\n",
       "      <th>WORKSITE</th>\n",
       "      <th>lon</th>\n",
       "      <th>lat</th>\n",
       "    </tr>\n",
       "  </thead>\n",
       "  <tbody>\n",
       "    <tr>\n",
       "      <td>0</td>\n",
       "      <td>CERTIFIED-WITHDRAWN</td>\n",
       "      <td>UNIVERSITY OF MICHIGAN</td>\n",
       "      <td>BIOCHEMISTS AND BIOPHYSICISTS</td>\n",
       "      <td>POSTDOCTORAL RESEARCH FELLOW</td>\n",
       "      <td>N</td>\n",
       "      <td>36067.0</td>\n",
       "      <td>2016.0</td>\n",
       "      <td>ANN ARBOR, MICHIGAN</td>\n",
       "      <td>-83.743038</td>\n",
       "      <td>42.280826</td>\n",
       "    </tr>\n",
       "    <tr>\n",
       "      <td>1</td>\n",
       "      <td>CERTIFIED-WITHDRAWN</td>\n",
       "      <td>GOODMAN NETWORKS, INC.</td>\n",
       "      <td>CHIEF EXECUTIVES</td>\n",
       "      <td>CHIEF OPERATING OFFICER</td>\n",
       "      <td>Y</td>\n",
       "      <td>242674.0</td>\n",
       "      <td>2016.0</td>\n",
       "      <td>PLANO, TEXAS</td>\n",
       "      <td>-96.698886</td>\n",
       "      <td>33.019843</td>\n",
       "    </tr>\n",
       "    <tr>\n",
       "      <td>2</td>\n",
       "      <td>CERTIFIED-WITHDRAWN</td>\n",
       "      <td>PORTS AMERICA GROUP, INC.</td>\n",
       "      <td>CHIEF EXECUTIVES</td>\n",
       "      <td>CHIEF PROCESS OFFICER</td>\n",
       "      <td>Y</td>\n",
       "      <td>193066.0</td>\n",
       "      <td>2016.0</td>\n",
       "      <td>JERSEY CITY, NEW JERSEY</td>\n",
       "      <td>-74.077642</td>\n",
       "      <td>40.728158</td>\n",
       "    </tr>\n",
       "    <tr>\n",
       "      <td>3</td>\n",
       "      <td>CERTIFIED-WITHDRAWN</td>\n",
       "      <td>GATES CORPORATION, A WHOLLY-OWNED SUBSIDIARY O...</td>\n",
       "      <td>CHIEF EXECUTIVES</td>\n",
       "      <td>REGIONAL PRESIDEN, AMERICAS</td>\n",
       "      <td>Y</td>\n",
       "      <td>220314.0</td>\n",
       "      <td>2016.0</td>\n",
       "      <td>DENVER, COLORADO</td>\n",
       "      <td>-104.990251</td>\n",
       "      <td>39.739236</td>\n",
       "    </tr>\n",
       "    <tr>\n",
       "      <td>4</td>\n",
       "      <td>WITHDRAWN</td>\n",
       "      <td>PEABODY INVESTMENTS CORP.</td>\n",
       "      <td>CHIEF EXECUTIVES</td>\n",
       "      <td>PRESIDENT MONGOLIA AND INDIA</td>\n",
       "      <td>Y</td>\n",
       "      <td>157518.4</td>\n",
       "      <td>2016.0</td>\n",
       "      <td>ST. LOUIS, MISSOURI</td>\n",
       "      <td>-90.199404</td>\n",
       "      <td>38.627003</td>\n",
       "    </tr>\n",
       "    <tr>\n",
       "      <td>...</td>\n",
       "      <td>...</td>\n",
       "      <td>...</td>\n",
       "      <td>...</td>\n",
       "      <td>...</td>\n",
       "      <td>...</td>\n",
       "      <td>...</td>\n",
       "      <td>...</td>\n",
       "      <td>...</td>\n",
       "      <td>...</td>\n",
       "      <td>...</td>\n",
       "    </tr>\n",
       "    <tr>\n",
       "      <td>3002453</td>\n",
       "      <td>NaN</td>\n",
       "      <td>NaN</td>\n",
       "      <td>NaN</td>\n",
       "      <td>NaN</td>\n",
       "      <td>NaN</td>\n",
       "      <td>NaN</td>\n",
       "      <td>NaN</td>\n",
       "      <td>NYC, NEW YORK</td>\n",
       "      <td>-74.005941</td>\n",
       "      <td>40.712784</td>\n",
       "    </tr>\n",
       "    <tr>\n",
       "      <td>3002454</td>\n",
       "      <td>NaN</td>\n",
       "      <td>NaN</td>\n",
       "      <td>NaN</td>\n",
       "      <td>NaN</td>\n",
       "      <td>NaN</td>\n",
       "      <td>NaN</td>\n",
       "      <td>NaN</td>\n",
       "      <td>SOUTH LAKE, TEXAS</td>\n",
       "      <td>-97.134178</td>\n",
       "      <td>32.941236</td>\n",
       "    </tr>\n",
       "    <tr>\n",
       "      <td>3002455</td>\n",
       "      <td>NaN</td>\n",
       "      <td>NaN</td>\n",
       "      <td>NaN</td>\n",
       "      <td>NaN</td>\n",
       "      <td>NaN</td>\n",
       "      <td>NaN</td>\n",
       "      <td>NaN</td>\n",
       "      <td>CLINTON, NEW JERSEY</td>\n",
       "      <td>-74.909890</td>\n",
       "      <td>40.636768</td>\n",
       "    </tr>\n",
       "    <tr>\n",
       "      <td>3002456</td>\n",
       "      <td>NaN</td>\n",
       "      <td>NaN</td>\n",
       "      <td>NaN</td>\n",
       "      <td>NaN</td>\n",
       "      <td>NaN</td>\n",
       "      <td>NaN</td>\n",
       "      <td>NaN</td>\n",
       "      <td>OWINGS MILL, MARYLAND</td>\n",
       "      <td>-76.780253</td>\n",
       "      <td>39.419550</td>\n",
       "    </tr>\n",
       "    <tr>\n",
       "      <td>3002457</td>\n",
       "      <td>NaN</td>\n",
       "      <td>NaN</td>\n",
       "      <td>NaN</td>\n",
       "      <td>NaN</td>\n",
       "      <td>NaN</td>\n",
       "      <td>NaN</td>\n",
       "      <td>NaN</td>\n",
       "      <td>ALTANTA, GEORGIA</td>\n",
       "      <td>-84.387982</td>\n",
       "      <td>33.748995</td>\n",
       "    </tr>\n",
       "  </tbody>\n",
       "</table>\n",
       "<p>3002458 rows × 10 columns</p>\n",
       "</div>"
      ],
      "text/plain": [
       "                 CASE_STATUS  \\\n",
       "0        CERTIFIED-WITHDRAWN   \n",
       "1        CERTIFIED-WITHDRAWN   \n",
       "2        CERTIFIED-WITHDRAWN   \n",
       "3        CERTIFIED-WITHDRAWN   \n",
       "4                  WITHDRAWN   \n",
       "...                      ...   \n",
       "3002453                  NaN   \n",
       "3002454                  NaN   \n",
       "3002455                  NaN   \n",
       "3002456                  NaN   \n",
       "3002457                  NaN   \n",
       "\n",
       "                                             EMPLOYER_NAME  \\\n",
       "0                                   UNIVERSITY OF MICHIGAN   \n",
       "1                                   GOODMAN NETWORKS, INC.   \n",
       "2                                PORTS AMERICA GROUP, INC.   \n",
       "3        GATES CORPORATION, A WHOLLY-OWNED SUBSIDIARY O...   \n",
       "4                                PEABODY INVESTMENTS CORP.   \n",
       "...                                                    ...   \n",
       "3002453                                                NaN   \n",
       "3002454                                                NaN   \n",
       "3002455                                                NaN   \n",
       "3002456                                                NaN   \n",
       "3002457                                                NaN   \n",
       "\n",
       "                              SOC_NAME                     JOB_TITLE  \\\n",
       "0        BIOCHEMISTS AND BIOPHYSICISTS  POSTDOCTORAL RESEARCH FELLOW   \n",
       "1                     CHIEF EXECUTIVES       CHIEF OPERATING OFFICER   \n",
       "2                     CHIEF EXECUTIVES         CHIEF PROCESS OFFICER   \n",
       "3                     CHIEF EXECUTIVES   REGIONAL PRESIDEN, AMERICAS   \n",
       "4                     CHIEF EXECUTIVES  PRESIDENT MONGOLIA AND INDIA   \n",
       "...                                ...                           ...   \n",
       "3002453                            NaN                           NaN   \n",
       "3002454                            NaN                           NaN   \n",
       "3002455                            NaN                           NaN   \n",
       "3002456                            NaN                           NaN   \n",
       "3002457                            NaN                           NaN   \n",
       "\n",
       "        FULL_TIME_POSITION  PREVAILING_WAGE    YEAR                 WORKSITE  \\\n",
       "0                        N          36067.0  2016.0      ANN ARBOR, MICHIGAN   \n",
       "1                        Y         242674.0  2016.0             PLANO, TEXAS   \n",
       "2                        Y         193066.0  2016.0  JERSEY CITY, NEW JERSEY   \n",
       "3                        Y         220314.0  2016.0         DENVER, COLORADO   \n",
       "4                        Y         157518.4  2016.0      ST. LOUIS, MISSOURI   \n",
       "...                    ...              ...     ...                      ...   \n",
       "3002453                NaN              NaN     NaN            NYC, NEW YORK   \n",
       "3002454                NaN              NaN     NaN        SOUTH LAKE, TEXAS   \n",
       "3002455                NaN              NaN     NaN      CLINTON, NEW JERSEY   \n",
       "3002456                NaN              NaN     NaN    OWINGS MILL, MARYLAND   \n",
       "3002457                NaN              NaN     NaN         ALTANTA, GEORGIA   \n",
       "\n",
       "                lon        lat  \n",
       "0        -83.743038  42.280826  \n",
       "1        -96.698886  33.019843  \n",
       "2        -74.077642  40.728158  \n",
       "3       -104.990251  39.739236  \n",
       "4        -90.199404  38.627003  \n",
       "...             ...        ...  \n",
       "3002453  -74.005941  40.712784  \n",
       "3002454  -97.134178  32.941236  \n",
       "3002455  -74.909890  40.636768  \n",
       "3002456  -76.780253  39.419550  \n",
       "3002457  -84.387982  33.748995  \n",
       "\n",
       "[3002458 rows x 10 columns]"
      ]
     },
     "execution_count": 8,
     "metadata": {},
     "output_type": "execute_result"
    }
   ],
   "source": [
    "h1b_data"
   ]
  },
  {
   "cell_type": "markdown",
   "metadata": {},
   "source": [
    "# Exploratory Data Analysis"
   ]
  },
  {
   "cell_type": "code",
   "execution_count": 9,
   "metadata": {},
   "outputs": [
    {
     "data": {
      "text/plain": [
       "CERTIFIED                                             2615623\n",
       "CERTIFIED-WITHDRAWN                                    202659\n",
       "DENIED                                                  94346\n",
       "WITHDRAWN                                               89799\n",
       "PENDING QUALITY AND COMPLIANCE REVIEW - UNASSIGNED         15\n",
       "NaN                                                        13\n",
       "REJECTED                                                    2\n",
       "INVALIDATED                                                 1\n",
       "Name: CASE_STATUS, dtype: int64"
      ]
     },
     "execution_count": 9,
     "metadata": {},
     "output_type": "execute_result"
    }
   ],
   "source": [
    "h1b_data['CASE_STATUS'].value_counts(dropna=False)"
   ]
  },
  {
   "cell_type": "code",
   "execution_count": 10,
   "metadata": {},
   "outputs": [],
   "source": [
    "\n",
    "h1b_data.loc[h1b_data['CASE_STATUS'] == 'REJECTED', 'CASE_STATUS'] = 'DENIED'\n",
    "h1b_data.loc[h1b_data['CASE_STATUS'] == 'INVALIDATED', 'CASE_STATUS'] = 'DENIED'\n",
    "h1b_data.loc[h1b_data['CASE_STATUS'] == 'PENDING QUALITY AND COMPLIANCE REVIEW - UNASSIGNED', 'CASE_STATUS'] = 'DENIED'\n",
    "h1b_data.loc[h1b_data['CASE_STATUS'] == 'CERTIFIED-WITHDRAWN', 'CASE_STATUS'] = 'CERTIFIED'\n",
    "h1b_data = h1b_data.drop(h1b_data[h1b_data['CASE_STATUS']=='WITHDRAWN'].index)"
   ]
  },
  {
   "cell_type": "markdown",
   "metadata": {},
   "source": [
    "making it as a binary classification problem CAT1- Certified and CAT2: DENIED, transforming all the categories into the either Certified or Denied"
   ]
  },
  {
   "cell_type": "code",
   "execution_count": 11,
   "metadata": {},
   "outputs": [
    {
     "data": {
      "text/plain": [
       "CERTIFIED    2818282\n",
       "DENIED         94364\n",
       "NaN               13\n",
       "Name: CASE_STATUS, dtype: int64"
      ]
     },
     "execution_count": 11,
     "metadata": {},
     "output_type": "execute_result"
    }
   ],
   "source": [
    "h1b_data['CASE_STATUS'].value_counts(dropna=False)"
   ]
  },
  {
   "cell_type": "code",
   "execution_count": 12,
   "metadata": {},
   "outputs": [],
   "source": [
    "#removing the case_status null values as a very small percentage of data having null\n",
    "h1b_data = h1b_data.drop(h1b_data[h1b_data['CASE_STATUS'].isnull()].index)"
   ]
  },
  {
   "cell_type": "code",
   "execution_count": 13,
   "metadata": {},
   "outputs": [
    {
     "data": {
      "text/plain": [
       "CERTIFIED    2818282\n",
       "DENIED         94364\n",
       "Name: CASE_STATUS, dtype: int64"
      ]
     },
     "execution_count": 13,
     "metadata": {},
     "output_type": "execute_result"
    }
   ],
   "source": [
    "h1b_data['CASE_STATUS'].value_counts(dropna=False)"
   ]
  },
  {
   "cell_type": "code",
   "execution_count": 14,
   "metadata": {},
   "outputs": [
    {
     "data": {
      "text/plain": [
       "CASE_STATUS                0\n",
       "EMPLOYER_NAME             18\n",
       "SOC_NAME               17073\n",
       "JOB_TITLE                 10\n",
       "FULL_TIME_POSITION         1\n",
       "PREVAILING_WAGE           53\n",
       "YEAR                       0\n",
       "WORKSITE                   0\n",
       "lon                   102844\n",
       "lat                   102844\n",
       "dtype: int64"
      ]
     },
     "execution_count": 14,
     "metadata": {},
     "output_type": "execute_result"
    }
   ],
   "source": [
    "h1b_data.isnull().sum()"
   ]
  },
  {
   "cell_type": "code",
   "execution_count": 15,
   "metadata": {},
   "outputs": [
    {
     "data": {
      "text/plain": [
       "count    2.912593e+06\n",
       "mean     1.428910e+05\n",
       "std      5.282312e+06\n",
       "min      0.000000e+00\n",
       "25%      5.441300e+04\n",
       "50%      6.500000e+04\n",
       "75%      8.143200e+04\n",
       "max      6.997607e+09\n",
       "Name: PREVAILING_WAGE, dtype: float64"
      ]
     },
     "execution_count": 15,
     "metadata": {},
     "output_type": "execute_result"
    }
   ],
   "source": [
    "h1b_data['PREVAILING_WAGE'].describe()"
   ]
  },
  {
   "cell_type": "code",
   "execution_count": 16,
   "metadata": {},
   "outputs": [],
   "source": [
    "wage_median = h1b_data['PREVAILING_WAGE'].median()"
   ]
  },
  {
   "cell_type": "code",
   "execution_count": 17,
   "metadata": {},
   "outputs": [],
   "source": [
    "h1b_data['PREVAILING_WAGE'] =  h1b_data['PREVAILING_WAGE'].fillna(wage_median)"
   ]
  },
  {
   "cell_type": "code",
   "execution_count": 18,
   "metadata": {},
   "outputs": [
    {
     "data": {
      "text/plain": [
       "array([[<matplotlib.axes._subplots.AxesSubplot object at 0x0000024AF7F3D648>]],\n",
       "      dtype=object)"
      ]
     },
     "execution_count": 18,
     "metadata": {},
     "output_type": "execute_result"
    },
    {
     "data": {
      "image/png": "[encoded data removed]",
      "text/plain": [
       "<Figure size 432x288 with 1 Axes>"
      ]
     },
     "metadata": {
      "needs_background": "light"
     },
     "output_type": "display_data"
    }
   ],
   "source": [
    "h1b_data[['PREVAILING_WAGE']].hist()"
   ]
  },
  {
   "cell_type": "markdown",
   "metadata": {},
   "source": [
    "Looks to have too many outliers, the median of the data seems to be around 65k and most of the data is distributed to be aorund 40k to 80k USD"
   ]
  },
  {
   "cell_type": "code",
   "execution_count": 19,
   "metadata": {},
   "outputs": [],
   "source": [
    "lower_bound = h1b_data['PREVAILING_WAGE'].quantile(0.05)"
   ]
  },
  {
   "cell_type": "code",
   "execution_count": 20,
   "metadata": {},
   "outputs": [],
   "source": [
    "higher_bound = h1b_data['PREVAILING_WAGE'].quantile(0.95)"
   ]
  },
  {
   "cell_type": "code",
   "execution_count": 21,
   "metadata": {},
   "outputs": [],
   "source": [
    "h1b_data['FULL_TIME_POSITION'] =h1b_data['FULL_TIME_POSITION'].fillna(h1b_data['FULL_TIME_POSITION'].mode()[0])"
   ]
  },
  {
   "cell_type": "code",
   "execution_count": 22,
   "metadata": {},
   "outputs": [],
   "source": [
    "h1b_data['EMPLOYER_NAME'] =  h1b_data['EMPLOYER_NAME'].fillna(h1b_data['EMPLOYER_NAME'].mode()[0])"
   ]
  },
  {
   "cell_type": "code",
   "execution_count": 23,
   "metadata": {},
   "outputs": [],
   "source": [
    "h1b_data['JOB_TITLE'] = h1b_data['JOB_TITLE'].fillna(h1b_data['JOB_TITLE'].mode()[0])"
   ]
  },
  {
   "cell_type": "code",
   "execution_count": 24,
   "metadata": {},
   "outputs": [],
   "source": [
    "h1b_data = h1b_data.drop(['lon','lat'],axis=1) #to check this need the expert knowledge of the area, hence dropping"
   ]
  },
  {
   "cell_type": "code",
   "execution_count": 25,
   "metadata": {},
   "outputs": [
    {
     "data": {
      "text/html": [
       "<div>\n",
       "<style scoped>\n",
       "    .dataframe tbody tr th:only-of-type {\n",
       "        vertical-align: middle;\n",
       "    }\n",
       "\n",
       "    .dataframe tbody tr th {\n",
       "        vertical-align: top;\n",
       "    }\n",
       "\n",
       "    .dataframe thead th {\n",
       "        text-align: right;\n",
       "    }\n",
       "</style>\n",
       "<table border=\"1\" class=\"dataframe\">\n",
       "  <thead>\n",
       "    <tr style=\"text-align: right;\">\n",
       "      <th></th>\n",
       "      <th>CASE_STATUS</th>\n",
       "      <th>EMPLOYER_NAME</th>\n",
       "      <th>SOC_NAME</th>\n",
       "      <th>JOB_TITLE</th>\n",
       "      <th>FULL_TIME_POSITION</th>\n",
       "      <th>PREVAILING_WAGE</th>\n",
       "      <th>YEAR</th>\n",
       "      <th>WORKSITE</th>\n",
       "    </tr>\n",
       "  </thead>\n",
       "  <tbody>\n",
       "    <tr>\n",
       "      <td>0</td>\n",
       "      <td>CERTIFIED</td>\n",
       "      <td>UNIVERSITY OF MICHIGAN</td>\n",
       "      <td>BIOCHEMISTS AND BIOPHYSICISTS</td>\n",
       "      <td>POSTDOCTORAL RESEARCH FELLOW</td>\n",
       "      <td>N</td>\n",
       "      <td>36067.0</td>\n",
       "      <td>2016.0</td>\n",
       "      <td>ANN ARBOR, MICHIGAN</td>\n",
       "    </tr>\n",
       "    <tr>\n",
       "      <td>1</td>\n",
       "      <td>CERTIFIED</td>\n",
       "      <td>GOODMAN NETWORKS, INC.</td>\n",
       "      <td>CHIEF EXECUTIVES</td>\n",
       "      <td>CHIEF OPERATING OFFICER</td>\n",
       "      <td>Y</td>\n",
       "      <td>242674.0</td>\n",
       "      <td>2016.0</td>\n",
       "      <td>PLANO, TEXAS</td>\n",
       "    </tr>\n",
       "    <tr>\n",
       "      <td>2</td>\n",
       "      <td>CERTIFIED</td>\n",
       "      <td>PORTS AMERICA GROUP, INC.</td>\n",
       "      <td>CHIEF EXECUTIVES</td>\n",
       "      <td>CHIEF PROCESS OFFICER</td>\n",
       "      <td>Y</td>\n",
       "      <td>193066.0</td>\n",
       "      <td>2016.0</td>\n",
       "      <td>JERSEY CITY, NEW JERSEY</td>\n",
       "    </tr>\n",
       "    <tr>\n",
       "      <td>3</td>\n",
       "      <td>CERTIFIED</td>\n",
       "      <td>GATES CORPORATION, A WHOLLY-OWNED SUBSIDIARY O...</td>\n",
       "      <td>CHIEF EXECUTIVES</td>\n",
       "      <td>REGIONAL PRESIDEN, AMERICAS</td>\n",
       "      <td>Y</td>\n",
       "      <td>220314.0</td>\n",
       "      <td>2016.0</td>\n",
       "      <td>DENVER, COLORADO</td>\n",
       "    </tr>\n",
       "    <tr>\n",
       "      <td>5</td>\n",
       "      <td>CERTIFIED</td>\n",
       "      <td>BURGER KING CORPORATION</td>\n",
       "      <td>CHIEF EXECUTIVES</td>\n",
       "      <td>EXECUTIVE V P, GLOBAL DEVELOPMENT AND PRESIDEN...</td>\n",
       "      <td>Y</td>\n",
       "      <td>225000.0</td>\n",
       "      <td>2016.0</td>\n",
       "      <td>MIAMI, FLORIDA</td>\n",
       "    </tr>\n",
       "    <tr>\n",
       "      <td>...</td>\n",
       "      <td>...</td>\n",
       "      <td>...</td>\n",
       "      <td>...</td>\n",
       "      <td>...</td>\n",
       "      <td>...</td>\n",
       "      <td>...</td>\n",
       "      <td>...</td>\n",
       "      <td>...</td>\n",
       "    </tr>\n",
       "    <tr>\n",
       "      <td>3002369</td>\n",
       "      <td>DENIED</td>\n",
       "      <td>CUSTOMTBT, LLC</td>\n",
       "      <td>Instructional Coordinators</td>\n",
       "      <td>SENIOR INSTRUCTIONAL DESIGNER</td>\n",
       "      <td>Y</td>\n",
       "      <td>46738.0</td>\n",
       "      <td>2011.0</td>\n",
       "      <td>MARIETTA, GEORGIA</td>\n",
       "    </tr>\n",
       "    <tr>\n",
       "      <td>3002378</td>\n",
       "      <td>DENIED</td>\n",
       "      <td>KEVIN PARK &amp; ASSOCIATES, LTD</td>\n",
       "      <td>Accountants and Auditors</td>\n",
       "      <td>ACCOUNTANT</td>\n",
       "      <td>Y</td>\n",
       "      <td>45760.0</td>\n",
       "      <td>2011.0</td>\n",
       "      <td>ARLINGTON HEIGHTS, ILLINOIS</td>\n",
       "    </tr>\n",
       "    <tr>\n",
       "      <td>3002383</td>\n",
       "      <td>DENIED</td>\n",
       "      <td>IVERTIX INCORPORATED</td>\n",
       "      <td>Computer Programmers</td>\n",
       "      <td>APPLICATION DEVELOPER</td>\n",
       "      <td>Y</td>\n",
       "      <td>54080.0</td>\n",
       "      <td>2011.0</td>\n",
       "      <td>WASHINGTON, DISTRICT OF COLUMBIA</td>\n",
       "    </tr>\n",
       "    <tr>\n",
       "      <td>3002389</td>\n",
       "      <td>DENIED</td>\n",
       "      <td>PROGRESSIVE SURFACE, INC.</td>\n",
       "      <td>Sales Engineers</td>\n",
       "      <td>SALES ENGINEER</td>\n",
       "      <td>Y</td>\n",
       "      <td>55141.0</td>\n",
       "      <td>2011.0</td>\n",
       "      <td>GRAND RAPIDS, MICHIGAN</td>\n",
       "    </tr>\n",
       "    <tr>\n",
       "      <td>3002392</td>\n",
       "      <td>DENIED</td>\n",
       "      <td>PEI PARTNERSHIP ARCHITECTS LLP</td>\n",
       "      <td>Architectural and Civil Drafters</td>\n",
       "      <td>ARCHITECTURAL DESIGNER</td>\n",
       "      <td>Y</td>\n",
       "      <td>69368.0</td>\n",
       "      <td>2011.0</td>\n",
       "      <td>NEW YORK, NEW YORK</td>\n",
       "    </tr>\n",
       "  </tbody>\n",
       "</table>\n",
       "<p>2912646 rows × 8 columns</p>\n",
       "</div>"
      ],
      "text/plain": [
       "        CASE_STATUS                                      EMPLOYER_NAME  \\\n",
       "0         CERTIFIED                             UNIVERSITY OF MICHIGAN   \n",
       "1         CERTIFIED                             GOODMAN NETWORKS, INC.   \n",
       "2         CERTIFIED                          PORTS AMERICA GROUP, INC.   \n",
       "3         CERTIFIED  GATES CORPORATION, A WHOLLY-OWNED SUBSIDIARY O...   \n",
       "5         CERTIFIED                            BURGER KING CORPORATION   \n",
       "...             ...                                                ...   \n",
       "3002369      DENIED                                     CUSTOMTBT, LLC   \n",
       "3002378      DENIED                       KEVIN PARK & ASSOCIATES, LTD   \n",
       "3002383      DENIED                               IVERTIX INCORPORATED   \n",
       "3002389      DENIED                          PROGRESSIVE SURFACE, INC.   \n",
       "3002392      DENIED                     PEI PARTNERSHIP ARCHITECTS LLP   \n",
       "\n",
       "                                 SOC_NAME  \\\n",
       "0           BIOCHEMISTS AND BIOPHYSICISTS   \n",
       "1                        CHIEF EXECUTIVES   \n",
       "2                        CHIEF EXECUTIVES   \n",
       "3                        CHIEF EXECUTIVES   \n",
       "5                        CHIEF EXECUTIVES   \n",
       "...                                   ...   \n",
       "3002369        Instructional Coordinators   \n",
       "3002378          Accountants and Auditors   \n",
       "3002383              Computer Programmers   \n",
       "3002389                   Sales Engineers   \n",
       "3002392  Architectural and Civil Drafters   \n",
       "\n",
       "                                                 JOB_TITLE FULL_TIME_POSITION  \\\n",
       "0                             POSTDOCTORAL RESEARCH FELLOW                  N   \n",
       "1                                  CHIEF OPERATING OFFICER                  Y   \n",
       "2                                    CHIEF PROCESS OFFICER                  Y   \n",
       "3                              REGIONAL PRESIDEN, AMERICAS                  Y   \n",
       "5        EXECUTIVE V P, GLOBAL DEVELOPMENT AND PRESIDEN...                  Y   \n",
       "...                                                    ...                ...   \n",
       "3002369                      SENIOR INSTRUCTIONAL DESIGNER                  Y   \n",
       "3002378                                         ACCOUNTANT                  Y   \n",
       "3002383                              APPLICATION DEVELOPER                  Y   \n",
       "3002389                                     SALES ENGINEER                  Y   \n",
       "3002392                             ARCHITECTURAL DESIGNER                  Y   \n",
       "\n",
       "         PREVAILING_WAGE    YEAR                          WORKSITE  \n",
       "0                36067.0  2016.0               ANN ARBOR, MICHIGAN  \n",
       "1               242674.0  2016.0                      PLANO, TEXAS  \n",
       "2               193066.0  2016.0           JERSEY CITY, NEW JERSEY  \n",
       "3               220314.0  2016.0                  DENVER, COLORADO  \n",
       "5               225000.0  2016.0                    MIAMI, FLORIDA  \n",
       "...                  ...     ...                               ...  \n",
       "3002369          46738.0  2011.0                 MARIETTA, GEORGIA  \n",
       "3002378          45760.0  2011.0       ARLINGTON HEIGHTS, ILLINOIS  \n",
       "3002383          54080.0  2011.0  WASHINGTON, DISTRICT OF COLUMBIA  \n",
       "3002389          55141.0  2011.0            GRAND RAPIDS, MICHIGAN  \n",
       "3002392          69368.0  2011.0                NEW YORK, NEW YORK  \n",
       "\n",
       "[2912646 rows x 8 columns]"
      ]
     },
     "execution_count": 25,
     "metadata": {},
     "output_type": "execute_result"
    }
   ],
   "source": [
    "h1b_data"
   ]
  },
  {
   "cell_type": "code",
   "execution_count": 26,
   "metadata": {},
   "outputs": [
    {
     "data": {
      "text/plain": [
       "<matplotlib.axes._subplots.AxesSubplot at 0x24a92815908>"
      ]
     },
     "execution_count": 26,
     "metadata": {},
     "output_type": "execute_result"
    },
    {
     "data": {
      "image/png": "[encoded data removed]",
      "text/plain": [
       "<Figure size 432x288 with 1 Axes>"
      ]
     },
     "metadata": {
      "needs_background": "light"
     },
     "output_type": "display_data"
    }
   ],
   "source": [
    "sns.countplot('YEAR',data=h1b_data,hue='CASE_STATUS')"
   ]
  },
  {
   "cell_type": "markdown",
   "metadata": {},
   "source": [
    "The number of certified cases fo H1b visa have been increasing from the year 2011 and the % of denial is decreasing"
   ]
  },
  {
   "cell_type": "code",
   "execution_count": 27,
   "metadata": {},
   "outputs": [
    {
     "data": {
      "text/plain": [
       "<matplotlib.axes._subplots.AxesSubplot at 0x24a928c5b08>"
      ]
     },
     "execution_count": 27,
     "metadata": {},
     "output_type": "execute_result"
    },
    {
     "data": {
      "image/png": "[encoded data removed]",
      "text/plain": [
       "<Figure size 432x288 with 1 Axes>"
      ]
     },
     "metadata": {
      "needs_background": "light"
     },
     "output_type": "display_data"
    }
   ],
   "source": [
    "sns.countplot('YEAR',data=h1b_data)"
   ]
  },
  {
   "cell_type": "code",
   "execution_count": 28,
   "metadata": {},
   "outputs": [],
   "source": [
    "h1b_data['SOC_NAME'] = h1b_data['SOC_NAME'].fillna(h1b_data['SOC_NAME'].mode()[0])"
   ]
  },
  {
   "cell_type": "code",
   "execution_count": 29,
   "metadata": {},
   "outputs": [
    {
     "data": {
      "text/plain": [
       "CASE_STATUS           0\n",
       "EMPLOYER_NAME         0\n",
       "SOC_NAME              0\n",
       "JOB_TITLE             0\n",
       "FULL_TIME_POSITION    0\n",
       "PREVAILING_WAGE       0\n",
       "YEAR                  0\n",
       "WORKSITE              0\n",
       "dtype: int64"
      ]
     },
     "execution_count": 29,
     "metadata": {},
     "output_type": "execute_result"
    }
   ],
   "source": [
    "h1b_data.isnull().sum()"
   ]
  },
  {
   "cell_type": "code",
   "execution_count": 30,
   "metadata": {},
   "outputs": [
    {
     "data": {
      "text/plain": [
       "<matplotlib.axes._subplots.AxesSubplot at 0x24a9293ad48>"
      ]
     },
     "execution_count": 30,
     "metadata": {},
     "output_type": "execute_result"
    },
    {
     "data": {
      "image/png": "[encoded data removed]",
      "text/plain": [
       "<Figure size 432x288 with 1 Axes>"
      ]
     },
     "metadata": {
      "needs_background": "light"
     },
     "output_type": "display_data"
    }
   ],
   "source": [
    "sns.countplot('FULL_TIME_POSITION',data=h1b_data)"
   ]
  },
  {
   "cell_type": "markdown",
   "metadata": {},
   "source": [
    "Majority of the people who applied for h1b Visa petition were in a full time role"
   ]
  },
  {
   "cell_type": "code",
   "execution_count": 31,
   "metadata": {},
   "outputs": [],
   "source": [
    "h1b_data['STATE'] = h1b_data['WORKSITE'].apply(lambda x: x.split(', ')[1])"
   ]
  },
  {
   "cell_type": "code",
   "execution_count": 32,
   "metadata": {},
   "outputs": [
    {
     "data": {
      "image/png": "[encoded data removed]",
      "text/plain": [
       "<Figure size 720x720 with 1 Axes>"
      ]
     },
     "metadata": {
      "needs_background": "light"
     },
     "output_type": "display_data"
    }
   ],
   "source": [
    "plt.figure(figsize=(10,10))\n",
    "sns.countplot(y=h1b_data['STATE'])\n",
    "plt.tight_layout()"
   ]
  },
  {
   "cell_type": "markdown",
   "metadata": {},
   "source": [
    "Places from where the maximum filings have been done are California, followed by Texas and NewYork. It seems to be the IT hub. Discarding cities as then there would be too many categories for a particular state."
   ]
  },
  {
   "cell_type": "code",
   "execution_count": 33,
   "metadata": {},
   "outputs": [
    {
     "data": {
      "text/plain": [
       "INFOSYS LIMITED                      130335\n",
       "TATA CONSULTANCY SERVICES LIMITED     64418\n",
       "WIPRO LIMITED                         47497\n",
       "DELOITTE CONSULTING LLP               36675\n",
       "ACCENTURE LLP                         33316\n",
       "                                      ...  \n",
       "LUCKY MONEY INC                           1\n",
       "SAMARAH INVESTMENTS LLC                   1\n",
       "OPUS HEALTHCARE SOLUTIONS LLC             1\n",
       "WC FIELD HOCKEY, INC                      1\n",
       "QA ENGINEER INC                           1\n",
       "Name: EMPLOYER_NAME, Length: 234089, dtype: int64"
      ]
     },
     "execution_count": 33,
     "metadata": {},
     "output_type": "execute_result"
    }
   ],
   "source": [
    "h1b_data['EMPLOYER_NAME'].value_counts()"
   ]
  },
  {
   "cell_type": "code",
   "execution_count": 34,
   "metadata": {},
   "outputs": [
    {
     "data": {
      "text/html": [
       "<div>\n",
       "<style scoped>\n",
       "    .dataframe tbody tr th:only-of-type {\n",
       "        vertical-align: middle;\n",
       "    }\n",
       "\n",
       "    .dataframe tbody tr th {\n",
       "        vertical-align: top;\n",
       "    }\n",
       "\n",
       "    .dataframe thead th {\n",
       "        text-align: right;\n",
       "    }\n",
       "</style>\n",
       "<table border=\"1\" class=\"dataframe\">\n",
       "  <thead>\n",
       "    <tr style=\"text-align: right;\">\n",
       "      <th></th>\n",
       "      <th>CASE_STATUS</th>\n",
       "      <th>EMPLOYER_NAME</th>\n",
       "      <th>SOC_NAME</th>\n",
       "      <th>JOB_TITLE</th>\n",
       "      <th>FULL_TIME_POSITION</th>\n",
       "      <th>PREVAILING_WAGE</th>\n",
       "      <th>YEAR</th>\n",
       "      <th>WORKSITE</th>\n",
       "      <th>STATE</th>\n",
       "    </tr>\n",
       "  </thead>\n",
       "  <tbody>\n",
       "    <tr>\n",
       "      <td>0</td>\n",
       "      <td>CERTIFIED</td>\n",
       "      <td>UNIVERSITY OF MICHIGAN</td>\n",
       "      <td>BIOCHEMISTS AND BIOPHYSICISTS</td>\n",
       "      <td>POSTDOCTORAL RESEARCH FELLOW</td>\n",
       "      <td>N</td>\n",
       "      <td>36067.0</td>\n",
       "      <td>2016.0</td>\n",
       "      <td>ANN ARBOR, MICHIGAN</td>\n",
       "      <td>MICHIGAN</td>\n",
       "    </tr>\n",
       "    <tr>\n",
       "      <td>23</td>\n",
       "      <td>CERTIFIED</td>\n",
       "      <td>UC UNIVERSITY HIGH SCHOOL EDUCATION INC.</td>\n",
       "      <td>CHIEF EXECUTIVES</td>\n",
       "      <td>CHIEF FINANCIAL OFFICER</td>\n",
       "      <td>Y</td>\n",
       "      <td>99986.0</td>\n",
       "      <td>2016.0</td>\n",
       "      <td>CHULA VISTA, CALIFORNIA</td>\n",
       "      <td>CALIFORNIA</td>\n",
       "    </tr>\n",
       "    <tr>\n",
       "      <td>74</td>\n",
       "      <td>CERTIFIED</td>\n",
       "      <td>UNIVERSITY AT ALBANY</td>\n",
       "      <td>CHIEF EXECUTIVES</td>\n",
       "      <td>DIRECTOR</td>\n",
       "      <td>Y</td>\n",
       "      <td>75293.0</td>\n",
       "      <td>2016.0</td>\n",
       "      <td>ALBANY, NEW YORK</td>\n",
       "      <td>NEW YORK</td>\n",
       "    </tr>\n",
       "    <tr>\n",
       "      <td>298</td>\n",
       "      <td>CERTIFIED</td>\n",
       "      <td>UNIVERSITY OF CALIFORNIA, LOS ANGELES</td>\n",
       "      <td>CHIEF EXECUTIVES</td>\n",
       "      <td>ASSO. VICE CHANCELLOR FOR INTEL. PROP. AND IND...</td>\n",
       "      <td>Y</td>\n",
       "      <td>91312.0</td>\n",
       "      <td>2016.0</td>\n",
       "      <td>LOS ANGELES, CALIFORNIA</td>\n",
       "      <td>CALIFORNIA</td>\n",
       "    </tr>\n",
       "    <tr>\n",
       "      <td>300</td>\n",
       "      <td>CERTIFIED</td>\n",
       "      <td>YALE UNIVERSITY</td>\n",
       "      <td>CHIEF EXECUTIVES</td>\n",
       "      <td>CHIEF OPERATING OFFICER</td>\n",
       "      <td>Y</td>\n",
       "      <td>195208.0</td>\n",
       "      <td>2016.0</td>\n",
       "      <td>NEW HAVEN, CONNECTICUT</td>\n",
       "      <td>CONNECTICUT</td>\n",
       "    </tr>\n",
       "    <tr>\n",
       "      <td>...</td>\n",
       "      <td>...</td>\n",
       "      <td>...</td>\n",
       "      <td>...</td>\n",
       "      <td>...</td>\n",
       "      <td>...</td>\n",
       "      <td>...</td>\n",
       "      <td>...</td>\n",
       "      <td>...</td>\n",
       "      <td>...</td>\n",
       "    </tr>\n",
       "    <tr>\n",
       "      <td>3002264</td>\n",
       "      <td>CERTIFIED</td>\n",
       "      <td>CARNEGIE MELLON UNIVERSITY</td>\n",
       "      <td>Physical Scientists, All Other</td>\n",
       "      <td>POSTDOCTORAL RESEARCH ASSOCIATE</td>\n",
       "      <td>Y</td>\n",
       "      <td>41330.0</td>\n",
       "      <td>2011.0</td>\n",
       "      <td>PITTSBURGH, PENNSYLVANIA</td>\n",
       "      <td>PENNSYLVANIA</td>\n",
       "    </tr>\n",
       "    <tr>\n",
       "      <td>3002270</td>\n",
       "      <td>CERTIFIED</td>\n",
       "      <td>UNIVERSITY OF CALIFORNIA, LOS ANGELES</td>\n",
       "      <td>Medical Scientists, Except Epidemiologists</td>\n",
       "      <td>POSTDOCTORAL SCHOLAR</td>\n",
       "      <td>Y</td>\n",
       "      <td>42864.0</td>\n",
       "      <td>2011.0</td>\n",
       "      <td>LOS ANGELES, CALIFORNIA</td>\n",
       "      <td>CALIFORNIA</td>\n",
       "    </tr>\n",
       "    <tr>\n",
       "      <td>3002278</td>\n",
       "      <td>CERTIFIED</td>\n",
       "      <td>RESEARCH CORPORATION OF THE UNIVERSITY OF HAWAII</td>\n",
       "      <td>Biological Technicians</td>\n",
       "      <td>DNA LAB TECHNICIAN</td>\n",
       "      <td>Y</td>\n",
       "      <td>28080.0</td>\n",
       "      <td>2011.0</td>\n",
       "      <td>HILO, HAWAII</td>\n",
       "      <td>HAWAII</td>\n",
       "    </tr>\n",
       "    <tr>\n",
       "      <td>3002364</td>\n",
       "      <td>DENIED</td>\n",
       "      <td>UNIVERSITY OF CALIFORNIA, SANTA CRUZ</td>\n",
       "      <td>Biochemists and Biophysicists</td>\n",
       "      <td>POSTDOCTORAL SCHOLAR</td>\n",
       "      <td>Y</td>\n",
       "      <td>38496.0</td>\n",
       "      <td>2011.0</td>\n",
       "      <td>SANTA CRUZ, CALIFORNIA</td>\n",
       "      <td>CALIFORNIA</td>\n",
       "    </tr>\n",
       "    <tr>\n",
       "      <td>3002367</td>\n",
       "      <td>DENIED</td>\n",
       "      <td>OREGON HEALTH &amp; SCIENCE UNIVERSITY</td>\n",
       "      <td>Medical Scientists, Except Epidemiologists</td>\n",
       "      <td>SENIOR RESEARCH ASSOCIATE</td>\n",
       "      <td>Y</td>\n",
       "      <td>50357.0</td>\n",
       "      <td>2011.0</td>\n",
       "      <td>PORTLAND, OREGON</td>\n",
       "      <td>OREGON</td>\n",
       "    </tr>\n",
       "  </tbody>\n",
       "</table>\n",
       "<p>136837 rows × 9 columns</p>\n",
       "</div>"
      ],
      "text/plain": [
       "        CASE_STATUS                                     EMPLOYER_NAME  \\\n",
       "0         CERTIFIED                            UNIVERSITY OF MICHIGAN   \n",
       "23        CERTIFIED          UC UNIVERSITY HIGH SCHOOL EDUCATION INC.   \n",
       "74        CERTIFIED                              UNIVERSITY AT ALBANY   \n",
       "298       CERTIFIED             UNIVERSITY OF CALIFORNIA, LOS ANGELES   \n",
       "300       CERTIFIED                                   YALE UNIVERSITY   \n",
       "...             ...                                               ...   \n",
       "3002264   CERTIFIED                        CARNEGIE MELLON UNIVERSITY   \n",
       "3002270   CERTIFIED             UNIVERSITY OF CALIFORNIA, LOS ANGELES   \n",
       "3002278   CERTIFIED  RESEARCH CORPORATION OF THE UNIVERSITY OF HAWAII   \n",
       "3002364      DENIED              UNIVERSITY OF CALIFORNIA, SANTA CRUZ   \n",
       "3002367      DENIED                OREGON HEALTH & SCIENCE UNIVERSITY   \n",
       "\n",
       "                                           SOC_NAME  \\\n",
       "0                     BIOCHEMISTS AND BIOPHYSICISTS   \n",
       "23                                 CHIEF EXECUTIVES   \n",
       "74                                 CHIEF EXECUTIVES   \n",
       "298                                CHIEF EXECUTIVES   \n",
       "300                                CHIEF EXECUTIVES   \n",
       "...                                             ...   \n",
       "3002264              Physical Scientists, All Other   \n",
       "3002270  Medical Scientists, Except Epidemiologists   \n",
       "3002278                      Biological Technicians   \n",
       "3002364               Biochemists and Biophysicists   \n",
       "3002367  Medical Scientists, Except Epidemiologists   \n",
       "\n",
       "                                                 JOB_TITLE FULL_TIME_POSITION  \\\n",
       "0                             POSTDOCTORAL RESEARCH FELLOW                  N   \n",
       "23                                 CHIEF FINANCIAL OFFICER                  Y   \n",
       "74                                                DIRECTOR                  Y   \n",
       "298      ASSO. VICE CHANCELLOR FOR INTEL. PROP. AND IND...                  Y   \n",
       "300                                CHIEF OPERATING OFFICER                  Y   \n",
       "...                                                    ...                ...   \n",
       "3002264                    POSTDOCTORAL RESEARCH ASSOCIATE                  Y   \n",
       "3002270                               POSTDOCTORAL SCHOLAR                  Y   \n",
       "3002278                                 DNA LAB TECHNICIAN                  Y   \n",
       "3002364                               POSTDOCTORAL SCHOLAR                  Y   \n",
       "3002367                          SENIOR RESEARCH ASSOCIATE                  Y   \n",
       "\n",
       "         PREVAILING_WAGE    YEAR                  WORKSITE         STATE  \n",
       "0                36067.0  2016.0       ANN ARBOR, MICHIGAN      MICHIGAN  \n",
       "23               99986.0  2016.0   CHULA VISTA, CALIFORNIA    CALIFORNIA  \n",
       "74               75293.0  2016.0          ALBANY, NEW YORK      NEW YORK  \n",
       "298              91312.0  2016.0   LOS ANGELES, CALIFORNIA    CALIFORNIA  \n",
       "300             195208.0  2016.0    NEW HAVEN, CONNECTICUT   CONNECTICUT  \n",
       "...                  ...     ...                       ...           ...  \n",
       "3002264          41330.0  2011.0  PITTSBURGH, PENNSYLVANIA  PENNSYLVANIA  \n",
       "3002270          42864.0  2011.0   LOS ANGELES, CALIFORNIA    CALIFORNIA  \n",
       "3002278          28080.0  2011.0              HILO, HAWAII        HAWAII  \n",
       "3002364          38496.0  2011.0    SANTA CRUZ, CALIFORNIA    CALIFORNIA  \n",
       "3002367          50357.0  2011.0          PORTLAND, OREGON        OREGON  \n",
       "\n",
       "[136837 rows x 9 columns]"
      ]
     },
     "execution_count": 34,
     "metadata": {},
     "output_type": "execute_result"
    }
   ],
   "source": [
    "h1b_data[h1b_data['EMPLOYER_NAME'].str.contains('UNIVERSITY')]"
   ]
  },
  {
   "cell_type": "code",
   "execution_count": 35,
   "metadata": {},
   "outputs": [
    {
     "data": {
      "text/html": [
       "<div>\n",
       "<style scoped>\n",
       "    .dataframe tbody tr th:only-of-type {\n",
       "        vertical-align: middle;\n",
       "    }\n",
       "\n",
       "    .dataframe tbody tr th {\n",
       "        vertical-align: top;\n",
       "    }\n",
       "\n",
       "    .dataframe thead th {\n",
       "        text-align: right;\n",
       "    }\n",
       "</style>\n",
       "<table border=\"1\" class=\"dataframe\">\n",
       "  <thead>\n",
       "    <tr style=\"text-align: right;\">\n",
       "      <th></th>\n",
       "      <th>CASE_STATUS</th>\n",
       "      <th>EMPLOYER_NAME</th>\n",
       "      <th>SOC_NAME</th>\n",
       "      <th>JOB_TITLE</th>\n",
       "      <th>FULL_TIME_POSITION</th>\n",
       "      <th>PREVAILING_WAGE</th>\n",
       "      <th>YEAR</th>\n",
       "      <th>WORKSITE</th>\n",
       "      <th>STATE</th>\n",
       "    </tr>\n",
       "  </thead>\n",
       "  <tbody>\n",
       "    <tr>\n",
       "      <td>1</td>\n",
       "      <td>CERTIFIED</td>\n",
       "      <td>GOODMAN NETWORKS, INC.</td>\n",
       "      <td>CHIEF EXECUTIVES</td>\n",
       "      <td>CHIEF OPERATING OFFICER</td>\n",
       "      <td>Y</td>\n",
       "      <td>242674.0</td>\n",
       "      <td>2016.0</td>\n",
       "      <td>PLANO, TEXAS</td>\n",
       "      <td>TEXAS</td>\n",
       "    </tr>\n",
       "    <tr>\n",
       "      <td>2</td>\n",
       "      <td>CERTIFIED</td>\n",
       "      <td>PORTS AMERICA GROUP, INC.</td>\n",
       "      <td>CHIEF EXECUTIVES</td>\n",
       "      <td>CHIEF PROCESS OFFICER</td>\n",
       "      <td>Y</td>\n",
       "      <td>193066.0</td>\n",
       "      <td>2016.0</td>\n",
       "      <td>JERSEY CITY, NEW JERSEY</td>\n",
       "      <td>NEW JERSEY</td>\n",
       "    </tr>\n",
       "    <tr>\n",
       "      <td>3</td>\n",
       "      <td>CERTIFIED</td>\n",
       "      <td>GATES CORPORATION, A WHOLLY-OWNED SUBSIDIARY O...</td>\n",
       "      <td>CHIEF EXECUTIVES</td>\n",
       "      <td>REGIONAL PRESIDEN, AMERICAS</td>\n",
       "      <td>Y</td>\n",
       "      <td>220314.0</td>\n",
       "      <td>2016.0</td>\n",
       "      <td>DENVER, COLORADO</td>\n",
       "      <td>COLORADO</td>\n",
       "    </tr>\n",
       "    <tr>\n",
       "      <td>5</td>\n",
       "      <td>CERTIFIED</td>\n",
       "      <td>BURGER KING CORPORATION</td>\n",
       "      <td>CHIEF EXECUTIVES</td>\n",
       "      <td>EXECUTIVE V P, GLOBAL DEVELOPMENT AND PRESIDEN...</td>\n",
       "      <td>Y</td>\n",
       "      <td>225000.0</td>\n",
       "      <td>2016.0</td>\n",
       "      <td>MIAMI, FLORIDA</td>\n",
       "      <td>FLORIDA</td>\n",
       "    </tr>\n",
       "    <tr>\n",
       "      <td>6</td>\n",
       "      <td>CERTIFIED</td>\n",
       "      <td>BT AND MK ENERGY AND COMMODITIES</td>\n",
       "      <td>CHIEF EXECUTIVES</td>\n",
       "      <td>CHIEF OPERATING OFFICER</td>\n",
       "      <td>Y</td>\n",
       "      <td>91021.0</td>\n",
       "      <td>2016.0</td>\n",
       "      <td>HOUSTON, TEXAS</td>\n",
       "      <td>TEXAS</td>\n",
       "    </tr>\n",
       "    <tr>\n",
       "      <td>...</td>\n",
       "      <td>...</td>\n",
       "      <td>...</td>\n",
       "      <td>...</td>\n",
       "      <td>...</td>\n",
       "      <td>...</td>\n",
       "      <td>...</td>\n",
       "      <td>...</td>\n",
       "      <td>...</td>\n",
       "      <td>...</td>\n",
       "    </tr>\n",
       "    <tr>\n",
       "      <td>3002369</td>\n",
       "      <td>DENIED</td>\n",
       "      <td>CUSTOMTBT, LLC</td>\n",
       "      <td>Instructional Coordinators</td>\n",
       "      <td>SENIOR INSTRUCTIONAL DESIGNER</td>\n",
       "      <td>Y</td>\n",
       "      <td>46738.0</td>\n",
       "      <td>2011.0</td>\n",
       "      <td>MARIETTA, GEORGIA</td>\n",
       "      <td>GEORGIA</td>\n",
       "    </tr>\n",
       "    <tr>\n",
       "      <td>3002378</td>\n",
       "      <td>DENIED</td>\n",
       "      <td>KEVIN PARK &amp; ASSOCIATES, LTD</td>\n",
       "      <td>Accountants and Auditors</td>\n",
       "      <td>ACCOUNTANT</td>\n",
       "      <td>Y</td>\n",
       "      <td>45760.0</td>\n",
       "      <td>2011.0</td>\n",
       "      <td>ARLINGTON HEIGHTS, ILLINOIS</td>\n",
       "      <td>ILLINOIS</td>\n",
       "    </tr>\n",
       "    <tr>\n",
       "      <td>3002383</td>\n",
       "      <td>DENIED</td>\n",
       "      <td>IVERTIX INCORPORATED</td>\n",
       "      <td>Computer Programmers</td>\n",
       "      <td>APPLICATION DEVELOPER</td>\n",
       "      <td>Y</td>\n",
       "      <td>54080.0</td>\n",
       "      <td>2011.0</td>\n",
       "      <td>WASHINGTON, DISTRICT OF COLUMBIA</td>\n",
       "      <td>DISTRICT OF COLUMBIA</td>\n",
       "    </tr>\n",
       "    <tr>\n",
       "      <td>3002389</td>\n",
       "      <td>DENIED</td>\n",
       "      <td>PROGRESSIVE SURFACE, INC.</td>\n",
       "      <td>Sales Engineers</td>\n",
       "      <td>SALES ENGINEER</td>\n",
       "      <td>Y</td>\n",
       "      <td>55141.0</td>\n",
       "      <td>2011.0</td>\n",
       "      <td>GRAND RAPIDS, MICHIGAN</td>\n",
       "      <td>MICHIGAN</td>\n",
       "    </tr>\n",
       "    <tr>\n",
       "      <td>3002392</td>\n",
       "      <td>DENIED</td>\n",
       "      <td>PEI PARTNERSHIP ARCHITECTS LLP</td>\n",
       "      <td>Architectural and Civil Drafters</td>\n",
       "      <td>ARCHITECTURAL DESIGNER</td>\n",
       "      <td>Y</td>\n",
       "      <td>69368.0</td>\n",
       "      <td>2011.0</td>\n",
       "      <td>NEW YORK, NEW YORK</td>\n",
       "      <td>NEW YORK</td>\n",
       "    </tr>\n",
       "  </tbody>\n",
       "</table>\n",
       "<p>2775809 rows × 9 columns</p>\n",
       "</div>"
      ],
      "text/plain": [
       "        CASE_STATUS                                      EMPLOYER_NAME  \\\n",
       "1         CERTIFIED                             GOODMAN NETWORKS, INC.   \n",
       "2         CERTIFIED                          PORTS AMERICA GROUP, INC.   \n",
       "3         CERTIFIED  GATES CORPORATION, A WHOLLY-OWNED SUBSIDIARY O...   \n",
       "5         CERTIFIED                            BURGER KING CORPORATION   \n",
       "6         CERTIFIED                   BT AND MK ENERGY AND COMMODITIES   \n",
       "...             ...                                                ...   \n",
       "3002369      DENIED                                     CUSTOMTBT, LLC   \n",
       "3002378      DENIED                       KEVIN PARK & ASSOCIATES, LTD   \n",
       "3002383      DENIED                               IVERTIX INCORPORATED   \n",
       "3002389      DENIED                          PROGRESSIVE SURFACE, INC.   \n",
       "3002392      DENIED                     PEI PARTNERSHIP ARCHITECTS LLP   \n",
       "\n",
       "                                 SOC_NAME  \\\n",
       "1                        CHIEF EXECUTIVES   \n",
       "2                        CHIEF EXECUTIVES   \n",
       "3                        CHIEF EXECUTIVES   \n",
       "5                        CHIEF EXECUTIVES   \n",
       "6                        CHIEF EXECUTIVES   \n",
       "...                                   ...   \n",
       "3002369        Instructional Coordinators   \n",
       "3002378          Accountants and Auditors   \n",
       "3002383              Computer Programmers   \n",
       "3002389                   Sales Engineers   \n",
       "3002392  Architectural and Civil Drafters   \n",
       "\n",
       "                                                 JOB_TITLE FULL_TIME_POSITION  \\\n",
       "1                                  CHIEF OPERATING OFFICER                  Y   \n",
       "2                                    CHIEF PROCESS OFFICER                  Y   \n",
       "3                              REGIONAL PRESIDEN, AMERICAS                  Y   \n",
       "5        EXECUTIVE V P, GLOBAL DEVELOPMENT AND PRESIDEN...                  Y   \n",
       "6                                  CHIEF OPERATING OFFICER                  Y   \n",
       "...                                                    ...                ...   \n",
       "3002369                      SENIOR INSTRUCTIONAL DESIGNER                  Y   \n",
       "3002378                                         ACCOUNTANT                  Y   \n",
       "3002383                              APPLICATION DEVELOPER                  Y   \n",
       "3002389                                     SALES ENGINEER                  Y   \n",
       "3002392                             ARCHITECTURAL DESIGNER                  Y   \n",
       "\n",
       "         PREVAILING_WAGE    YEAR                          WORKSITE  \\\n",
       "1               242674.0  2016.0                      PLANO, TEXAS   \n",
       "2               193066.0  2016.0           JERSEY CITY, NEW JERSEY   \n",
       "3               220314.0  2016.0                  DENVER, COLORADO   \n",
       "5               225000.0  2016.0                    MIAMI, FLORIDA   \n",
       "6                91021.0  2016.0                    HOUSTON, TEXAS   \n",
       "...                  ...     ...                               ...   \n",
       "3002369          46738.0  2011.0                 MARIETTA, GEORGIA   \n",
       "3002378          45760.0  2011.0       ARLINGTON HEIGHTS, ILLINOIS   \n",
       "3002383          54080.0  2011.0  WASHINGTON, DISTRICT OF COLUMBIA   \n",
       "3002389          55141.0  2011.0            GRAND RAPIDS, MICHIGAN   \n",
       "3002392          69368.0  2011.0                NEW YORK, NEW YORK   \n",
       "\n",
       "                        STATE  \n",
       "1                       TEXAS  \n",
       "2                  NEW JERSEY  \n",
       "3                    COLORADO  \n",
       "5                     FLORIDA  \n",
       "6                       TEXAS  \n",
       "...                       ...  \n",
       "3002369               GEORGIA  \n",
       "3002378              ILLINOIS  \n",
       "3002383  DISTRICT OF COLUMBIA  \n",
       "3002389              MICHIGAN  \n",
       "3002392              NEW YORK  \n",
       "\n",
       "[2775809 rows x 9 columns]"
      ]
     },
     "execution_count": 35,
     "metadata": {},
     "output_type": "execute_result"
    }
   ],
   "source": [
    "h1b_data[~h1b_data['EMPLOYER_NAME'].str.contains('UNIVERSITY')]"
   ]
  },
  {
   "cell_type": "code",
   "execution_count": 36,
   "metadata": {},
   "outputs": [],
   "source": [
    "#2 categories can be formed - University_Filing and Company_Filing\n",
    "h1b_data['EMPLOYER_NAME'] = h1b_data['EMPLOYER_NAME'].apply(lambda x: x.lower())"
   ]
  },
  {
   "cell_type": "code",
   "execution_count": 37,
   "metadata": {},
   "outputs": [],
   "source": [
    "h1b_data[\"EMPLOYER\"] = h1b_data['EMPLOYER_NAME'].apply(lambda x : 'University_Filing' if 'university' in x else 'Company_Filing')"
   ]
  },
  {
   "cell_type": "code",
   "execution_count": 38,
   "metadata": {},
   "outputs": [
    {
     "data": {
      "text/plain": [
       "<matplotlib.axes._subplots.AxesSubplot at 0x24b020e1808>"
      ]
     },
     "execution_count": 38,
     "metadata": {},
     "output_type": "execute_result"
    },
    {
     "data": {
      "image/png": "[encoded data removed]",
      "text/plain": [
       "<Figure size 432x288 with 1 Axes>"
      ]
     },
     "metadata": {
      "needs_background": "light"
     },
     "output_type": "display_data"
    }
   ],
   "source": [
    "sns.countplot('EMPLOYER',data=h1b_data,hue='CASE_STATUS')"
   ]
  },
  {
   "cell_type": "code",
   "execution_count": 39,
   "metadata": {},
   "outputs": [
    {
     "data": {
      "text/plain": [
       "EMPLOYER           CASE_STATUS\n",
       "Company_Filing     CERTIFIED      0.967384\n",
       "                   DENIED         0.032616\n",
       "University_Filing  CERTIFIED      0.972018\n",
       "                   DENIED         0.027982\n",
       "Name: CASE_STATUS, dtype: float64"
      ]
     },
     "execution_count": 39,
     "metadata": {},
     "output_type": "execute_result"
    }
   ],
   "source": [
    "h1b_data.groupby('EMPLOYER')['CASE_STATUS'].value_counts(normalize=True)"
   ]
  },
  {
   "cell_type": "markdown",
   "metadata": {},
   "source": [
    "More chances of getting accepted if a university has filed for the H1b visa petition"
   ]
  },
  {
   "cell_type": "markdown",
   "metadata": {},
   "source": [
    "Removal of the outliers from the wage column."
   ]
  },
  {
   "cell_type": "code",
   "execution_count": 40,
   "metadata": {},
   "outputs": [],
   "source": [
    "h1b_data = h1b_data[(h1b_data['PREVAILING_WAGE']>lower_bound ) & (h1b_data['PREVAILING_WAGE'] < higher_bound)]"
   ]
  },
  {
   "cell_type": "code",
   "execution_count": 41,
   "metadata": {},
   "outputs": [
    {
     "data": {
      "text/plain": [
       "<matplotlib.axes._subplots.AxesSubplot at 0x24aa80d58c8>"
      ]
     },
     "execution_count": 41,
     "metadata": {},
     "output_type": "execute_result"
    },
    {
     "data": {
      "image/png": "[encoded data removed]",
      "text/plain": [
       "<Figure size 432x288 with 1 Axes>"
      ]
     },
     "metadata": {
      "needs_background": "light"
     },
     "output_type": "display_data"
    }
   ],
   "source": [
    "h1b_data['PREVAILING_WAGE'].hist()"
   ]
  },
  {
   "cell_type": "code",
   "execution_count": 42,
   "metadata": {},
   "outputs": [
    {
     "data": {
      "text/plain": [
       "CERTIFIED    0.971763\n",
       "DENIED       0.028237\n",
       "Name: CASE_STATUS, dtype: float64"
      ]
     },
     "execution_count": 42,
     "metadata": {},
     "output_type": "execute_result"
    }
   ],
   "source": [
    "h1b_data['CASE_STATUS'].value_counts(normalize=True)"
   ]
  },
  {
   "cell_type": "code",
   "execution_count": 43,
   "metadata": {},
   "outputs": [
    {
     "data": {
      "text/plain": [
       "<matplotlib.axes._subplots.AxesSubplot at 0x24ab492e508>"
      ]
     },
     "execution_count": 43,
     "metadata": {},
     "output_type": "execute_result"
    },
    {
     "data": {
      "image/png": "[encoded data removed]",
      "text/plain": [
       "<Figure size 432x288 with 1 Axes>"
      ]
     },
     "metadata": {
      "needs_background": "light"
     },
     "output_type": "display_data"
    }
   ],
   "source": [
    "sns.countplot('CASE_STATUS',data=h1b_data)"
   ]
  },
  {
   "cell_type": "markdown",
   "metadata": {},
   "source": [
    "Appears to be a highly imbalanced dataset as almost 97% of the data is certified and only 2% comprise of the denied status, that can led to the biasness of the model."
   ]
  },
  {
   "cell_type": "code",
   "execution_count": 44,
   "metadata": {},
   "outputs": [
    {
     "data": {
      "text/plain": [
       "Computer Systems Analysts                            299583\n",
       "Computer Programmers                                 217215\n",
       "COMPUTER SYSTEMS ANALYSTS                            206138\n",
       "SOFTWARE DEVELOPERS, APPLICATIONS                    195451\n",
       "Software Developers, Applications                    177766\n",
       "                                                      ...  \n",
       "SALES REPRESENTATIVE                                      1\n",
       "SECURITIES, COMMODITIES, AND FINANCIAL SERVICES S         1\n",
       "MANGEMENT ANALYSTS                                        1\n",
       "SECURITIES, COMMODITIES, AND FINANCIAL                    1\n",
       "Prepress Technicians and Workers                          1\n",
       "Name: SOC_NAME, Length: 1805, dtype: int64"
      ]
     },
     "execution_count": 44,
     "metadata": {},
     "output_type": "execute_result"
    }
   ],
   "source": [
    "h1b_data.SOC_NAME.value_counts()"
   ]
  },
  {
   "cell_type": "markdown",
   "metadata": {},
   "source": [
    "Upon observation, there are repetitions of the same category in the different cases (Upper case, lower case of the same occupation), can be a human error during entry, hence to avoid, the SOC_NAME can be divided into sectors of occupation."
   ]
  },
  {
   "cell_type": "code",
   "execution_count": 45,
   "metadata": {},
   "outputs": [],
   "source": [
    "h1b_data['SOC_NAME']=h1b_data['SOC_NAME'].apply(lambda x:x.lower())"
   ]
  },
  {
   "cell_type": "code",
   "execution_count": 46,
   "metadata": {},
   "outputs": [],
   "source": [
    "h1b_data['SECTOR'] = np.nan\n",
    "h1b_data.SECTOR[h1b_data['SOC_NAME'].str.contains('computer','programmer')] = 'computer'\n",
    "h1b_data.SECTOR[h1b_data['SOC_NAME'].str.contains('software','web developer')] = 'computer'\n",
    "h1b_data.SECTOR[h1b_data['SOC_NAME'].str.contains('database')] = 'computer'\n",
    "h1b_data.SECTOR[h1b_data['SOC_NAME'].str.contains('math','statistic')] = 'Mathematical'\n",
    "h1b_data.SECTOR[h1b_data['SOC_NAME'].str.contains('predictive model','stats')] = 'Mathematical'\n",
    "h1b_data.SECTOR[h1b_data['SOC_NAME'].str.contains('teacher','linguist')] = 'Education'\n",
    "h1b_data.SECTOR[h1b_data['SOC_NAME'].str.contains('professor','Teach')] = 'Education'\n",
    "h1b_data.SECTOR[h1b_data['SOC_NAME'].str.contains('school principal')] = 'Education'\n",
    "h1b_data.SECTOR[h1b_data['SOC_NAME'].str.contains('medical','doctor')] = 'Medical'\n",
    "h1b_data.SECTOR[h1b_data['SOC_NAME'].str.contains('physician','dentist')] = 'Medical'\n",
    "h1b_data.SECTOR[h1b_data['SOC_NAME'].str.contains('Health','Physical Therapists')] = 'Medical'\n",
    "h1b_data.SECTOR[h1b_data['SOC_NAME'].str.contains('surgeon','nurse')] = 'Medical'\n",
    "h1b_data.SECTOR[h1b_data['SOC_NAME'].str.contains('psychiatr')] = 'Medical'\n",
    "h1b_data.SECTOR[h1b_data['SOC_NAME'].str.contains('chemist','physicist')] = 'Advance Sciences'\n",
    "h1b_data.SECTOR[h1b_data['SOC_NAME'].str.contains('biology','scientist')] = 'Advance Sciences'\n",
    "h1b_data.SECTOR[h1b_data['SOC_NAME'].str.contains('biologi','clinical research')] = 'Advance Sciences'\n",
    "h1b_data.SECTOR[h1b_data['SOC_NAME'].str.contains('public relation','manage')] = 'Management'\n",
    "h1b_data.SECTOR[h1b_data['SOC_NAME'].str.contains('management','operation')] = 'Management'\n",
    "h1b_data.SECTOR[h1b_data['SOC_NAME'].str.contains('chief','plan')] = 'Management'\n",
    "h1b_data.SECTOR[h1b_data['SOC_NAME'].str.contains('executive')] = 'Management'\n",
    "h1b_data.SECTOR[h1b_data['SOC_NAME'].str.contains('advertis','marketing')] = 'Marketing'\n",
    "h1b_data.SECTOR[h1b_data['SOC_NAME'].str.contains('promotion','market research')] = 'Marketing'\n",
    "h1b_data.SECTOR[h1b_data['SOC_NAME'].str.contains('business','business analyst')] = 'Business'\n",
    "h1b_data.SECTOR[h1b_data['SOC_NAME'].str.contains('business systems analyst')] = 'Business'\n",
    "h1b_data.SECTOR[h1b_data['SOC_NAME'].str.contains('accountant','finance')] = 'Financial'\n",
    "h1b_data.SECTOR[h1b_data['SOC_NAME'].str.contains('financial')] = 'Financial'\n",
    "h1b_data.SECTOR[h1b_data['SOC_NAME'].str.contains('engineer','architect')] = 'Architecture & Engineering'\n",
    "h1b_data.SECTOR[h1b_data['SOC_NAME'].str.contains('surveyor','carto')] = 'Architecture & Engineering'\n",
    "h1b_data.SECTOR[h1b_data['SOC_NAME'].str.contains('technician','drafter')] = 'Architecture & Engineering'\n",
    "h1b_data.SECTOR[h1b_data['SOC_NAME'].str.contains('information security','information tech')] = 'Architecture & Engineering'\n",
    "h1b_data.SECTOR = h1b_data.SECTOR.replace(np.NaN,'Others')"
   ]
  },
  {
   "cell_type": "code",
   "execution_count": 47,
   "metadata": {},
   "outputs": [
    {
     "data": {
      "text/plain": [
       "computer                      1667385\n",
       "Others                         338356\n",
       "Architecture & Engineering     277003\n",
       "Financial                      113184\n",
       "Management                      68342\n",
       "Medical                         50821\n",
       "Education                       49974\n",
       "Advance Sciences                37596\n",
       "Business                        13233\n",
       "Marketing                        2256\n",
       "Mathematical                     1886\n",
       "Name: SECTOR, dtype: int64"
      ]
     },
     "execution_count": 47,
     "metadata": {},
     "output_type": "execute_result"
    }
   ],
   "source": [
    "h1b_data.SECTOR.value_counts(dropna=False)"
   ]
  },
  {
   "cell_type": "code",
   "execution_count": 48,
   "metadata": {},
   "outputs": [
    {
     "data": {
      "text/plain": [
       "243479"
      ]
     },
     "execution_count": 48,
     "metadata": {},
     "output_type": "execute_result"
    }
   ],
   "source": [
    "len(h1b_data.JOB_TITLE.unique())"
   ]
  },
  {
   "cell_type": "markdown",
   "metadata": {},
   "source": [
    "Too many uniques values to be processed and the sector column would suffice for the Job title columns, hence can be dropped"
   ]
  },
  {
   "cell_type": "code",
   "execution_count": 49,
   "metadata": {},
   "outputs": [
    {
     "data": {
      "text/plain": [
       "CASE_STATUS            object\n",
       "EMPLOYER_NAME          object\n",
       "SOC_NAME               object\n",
       "JOB_TITLE              object\n",
       "FULL_TIME_POSITION     object\n",
       "PREVAILING_WAGE       float64\n",
       "YEAR                  float64\n",
       "WORKSITE               object\n",
       "STATE                  object\n",
       "EMPLOYER               object\n",
       "SECTOR                 object\n",
       "dtype: object"
      ]
     },
     "execution_count": 49,
     "metadata": {},
     "output_type": "execute_result"
    }
   ],
   "source": [
    "h1b_data.dtypes"
   ]
  },
  {
   "cell_type": "code",
   "execution_count": 50,
   "metadata": {},
   "outputs": [],
   "source": [
    "h1b_data = h1b_data.drop(['EMPLOYER_NAME','JOB_TITLE','WORKSITE','SOC_NAME'],axis=1)"
   ]
  },
  {
   "cell_type": "code",
   "execution_count": 51,
   "metadata": {},
   "outputs": [
    {
     "data": {
      "text/plain": [
       "CASE_STATUS            object\n",
       "FULL_TIME_POSITION     object\n",
       "PREVAILING_WAGE       float64\n",
       "YEAR                  float64\n",
       "STATE                  object\n",
       "EMPLOYER               object\n",
       "SECTOR                 object\n",
       "dtype: object"
      ]
     },
     "execution_count": 51,
     "metadata": {},
     "output_type": "execute_result"
    }
   ],
   "source": [
    "h1b_data.dtypes"
   ]
  },
  {
   "cell_type": "code",
   "execution_count": 52,
   "metadata": {},
   "outputs": [],
   "source": [
    "categorical_var = findCategoricalCol(h1b_data)"
   ]
  },
  {
   "cell_type": "code",
   "execution_count": 53,
   "metadata": {},
   "outputs": [
    {
     "data": {
      "text/plain": [
       "['CASE_STATUS', 'FULL_TIME_POSITION', 'STATE', 'EMPLOYER', 'SECTOR']"
      ]
     },
     "execution_count": 53,
     "metadata": {},
     "output_type": "execute_result"
    }
   ],
   "source": [
    "categorical_var"
   ]
  },
  {
   "cell_type": "code",
   "execution_count": 54,
   "metadata": {},
   "outputs": [],
   "source": [
    "dummy = pd.get_dummies(h1b_data[categorical_var], drop_first=True)"
   ]
  },
  {
   "cell_type": "code",
   "execution_count": 55,
   "metadata": {},
   "outputs": [],
   "source": [
    "h1b_data_df = pd.concat([h1b_data.drop(categorical_var,axis=1),dummy],axis=1)"
   ]
  },
  {
   "cell_type": "markdown",
   "metadata": {},
   "source": [
    "# Under Sampling for Imbalanced Dataset"
   ]
  },
  {
   "cell_type": "code",
   "execution_count": 56,
   "metadata": {},
   "outputs": [],
   "source": [
    "from imblearn.under_sampling import NearMiss\n",
    "X = h1b_data_df.drop('CASE_STATUS_DENIED',axis=1)\n",
    "y = h1b_data_df['CASE_STATUS_DENIED']"
   ]
  },
  {
   "cell_type": "code",
   "execution_count": 57,
   "metadata": {},
   "outputs": [],
   "source": [
    "nm = NearMiss(random_state=42)\n",
    "X_samp,y_samp = nm.fit_sample(X,y)"
   ]
  },
  {
   "cell_type": "code",
   "execution_count": 58,
   "metadata": {},
   "outputs": [
    {
     "name": "stdout",
     "output_type": "stream",
     "text": [
      "Original dataset shape Counter({0: 2546055, 1: 73981})\n",
      "Resampled dataset shape Counter({0: 73981, 1: 73981})\n"
     ]
    }
   ],
   "source": [
    "from collections import Counter\n",
    "print('Original dataset shape {}'.format(Counter(y)))\n",
    "print('Resampled dataset shape {}'.format(Counter(y_samp)))"
   ]
  },
  {
   "cell_type": "code",
   "execution_count": 59,
   "metadata": {},
   "outputs": [],
   "source": [
    "from sklearn.model_selection import train_test_split\n",
    "X_train, X_test, y_train, y_test = train_test_split(X_samp, y_samp, test_size=0.3, random_state=42)"
   ]
  },
  {
   "cell_type": "markdown",
   "metadata": {},
   "source": [
    "# Model Creation"
   ]
  },
  {
   "cell_type": "markdown",
   "metadata": {},
   "source": [
    "### 1. RandomForestClassifier"
   ]
  },
  {
   "cell_type": "code",
   "execution_count": 60,
   "metadata": {},
   "outputs": [],
   "source": [
    "param_grid = { \n",
    "    'n_estimators': [300, 400],\n",
    "    'max_features': ['auto', 'sqrt', 'log2'],\n",
    "    'criterion' :['gini', 'entropy']\n",
    "}"
   ]
  },
  {
   "cell_type": "code",
   "execution_count": 61,
   "metadata": {},
   "outputs": [
    {
     "name": "stdout",
     "output_type": "stream",
     "text": [
      "Fitting 7 folds for each of 12 candidates, totalling 84 fits\n"
     ]
    },
    {
     "name": "stderr",
     "output_type": "stream",
     "text": [
      "[Parallel(n_jobs=-1)]: Using backend LokyBackend with 8 concurrent workers.\n",
      "[Parallel(n_jobs=-1)]: Done  34 tasks      | elapsed: 18.2min\n",
      "[Parallel(n_jobs=-1)]: Done  84 out of  84 | elapsed: 37.7min finished\n"
     ]
    },
    {
     "data": {
      "text/plain": [
       "GridSearchCV(cv=7, error_score='raise-deprecating',\n",
       "             estimator=RandomForestClassifier(bootstrap=True, class_weight=None,\n",
       "                                              criterion='gini', max_depth=None,\n",
       "                                              max_features='auto',\n",
       "                                              max_leaf_nodes=None,\n",
       "                                              min_impurity_decrease=0.0,\n",
       "                                              min_impurity_split=None,\n",
       "                                              min_samples_leaf=1,\n",
       "                                              min_samples_split=2,\n",
       "                                              min_weight_fraction_leaf=0.0,\n",
       "                                              n_estimators='warn', n_jobs=None,\n",
       "                                              oob_score=False,\n",
       "                                              random_state=None, verbose=0,\n",
       "                                              warm_start=False),\n",
       "             iid='warn', n_jobs=-1,\n",
       "             param_grid={'criterion': ['gini', 'entropy'],\n",
       "                         'max_features': ['auto', 'sqrt', 'log2'],\n",
       "                         'n_estimators': [300, 400]},\n",
       "             pre_dispatch='2*n_jobs', refit=True, return_train_score=False,\n",
       "             scoring=None, verbose=1)"
      ]
     },
     "execution_count": 61,
     "metadata": {},
     "output_type": "execute_result"
    }
   ],
   "source": [
    "from sklearn.ensemble import RandomForestClassifier\n",
    "from sklearn.model_selection import GridSearchCV\n",
    "rc =RandomForestClassifier(random_state=42)\n",
    "gcv = GridSearchCV(estimator=rc, param_grid=param_grid, cv=7,verbose=1, n_jobs=-1)\n",
    "gcv.fit(X_train,y_train)"
   ]
  },
  {
   "cell_type": "code",
   "execution_count": 62,
   "metadata": {},
   "outputs": [
    {
     "name": "stdout",
     "output_type": "stream",
     "text": [
      "{'criterion': 'gini', 'max_features': 'auto', 'n_estimators': 400}\n"
     ]
    }
   ],
   "source": [
    "print(gcv.best_params_)\n",
    "\n",
    "predictions =gcv.predict(X_test)"
   ]
  },
  {
   "cell_type": "code",
   "execution_count": 63,
   "metadata": {},
   "outputs": [
    {
     "name": "stdout",
     "output_type": "stream",
     "text": [
      "              precision    recall  f1-score   support\n",
      "\n",
      "           0       0.98      1.00      0.99     22199\n",
      "           1       1.00      0.98      0.99     22190\n",
      "\n",
      "    accuracy                           0.99     44389\n",
      "   macro avg       0.99      0.99      0.99     44389\n",
      "weighted avg       0.99      0.99      0.99     44389\n",
      "\n",
      "\n",
      "\n",
      "[[22145    54]\n",
      " [  394 21796]]\n"
     ]
    }
   ],
   "source": [
    "from sklearn.metrics import classification_report,confusion_matrix\n",
    "print('<==========Classification Report ========>')\n",
    "print(classification_report(y_test, predictions))\n",
    "print('<==========Confusion Matrix ========>')\n",
    "print(confusion_matrix(y_test,predictions))"
   ]
  },
  {
   "cell_type": "code",
   "execution_count": 64,
   "metadata": {},
   "outputs": [
    {
     "name": "stdout",
     "output_type": "stream",
     "text": [
      "Training Accuracy:99.14%\n",
      "Testing Accuracy:98.99%\n"
     ]
    }
   ],
   "source": [
    "print(\"Training Accuracy:{:.2f}%\".format(gcv.score(X_train,y_train)*100))\n",
    "print(\"Testing Accuracy:{:.2f}%\".format(gcv.score(X_test,y_test)*100))"
   ]
  },
  {
   "cell_type": "markdown",
   "metadata": {},
   "source": [
    "### 2. Logistic Regression "
   ]
  },
  {
   "cell_type": "code",
   "execution_count": 65,
   "metadata": {},
   "outputs": [],
   "source": [
    "param_log_grid = {\n",
    "    'C' :[0.01,0.1,1],\n",
    "    'solver' :['liblinear']\n",
    "}"
   ]
  },
  {
   "cell_type": "code",
   "execution_count": 66,
   "metadata": {},
   "outputs": [
    {
     "name": "stdout",
     "output_type": "stream",
     "text": [
      "Fitting 5 folds for each of 3 candidates, totalling 15 fits\n"
     ]
    },
    {
     "name": "stderr",
     "output_type": "stream",
     "text": [
      "[Parallel(n_jobs=-1)]: Using backend LokyBackend with 8 concurrent workers.\n",
      "[Parallel(n_jobs=-1)]: Done  15 out of  15 | elapsed:    4.5s finished\n"
     ]
    },
    {
     "name": "stdout",
     "output_type": "stream",
     "text": [
      "{'C': 1, 'solver': 'liblinear'}\n"
     ]
    }
   ],
   "source": [
    "from sklearn.linear_model import LogisticRegression\n",
    "from sklearn.model_selection import StratifiedKFold\n",
    "lr = LogisticRegression(random_state=42)\n",
    "skf = StratifiedKFold(n_splits=5,random_state=42)\n",
    "gcv_log = GridSearchCV(estimator=lr, param_grid=param_log_grid, cv=skf, verbose=1, n_jobs=-1)\n",
    "gcv_log.fit(X_train,y_train)\n",
    "print(gcv_log.best_params_)"
   ]
  },
  {
   "cell_type": "code",
   "execution_count": 67,
   "metadata": {},
   "outputs": [
    {
     "name": "stdout",
     "output_type": "stream",
     "text": [
      "Training Accuracy 87.35%\n",
      "Test Accuracy 87.49%\n"
     ]
    }
   ],
   "source": [
    "print(\"Training Accuracy {:.2f}%\".format(gcv_log.score(X_train,y_train)*100))\n",
    "print(\"Test Accuracy {:.2f}%\".format(gcv_log.score(X_test,y_test)*100))\n"
   ]
  },
  {
   "cell_type": "code",
   "execution_count": 68,
   "metadata": {},
   "outputs": [
    {
     "name": "stdout",
     "output_type": "stream",
     "text": [
      "Accuracy of Naive Bayes: 92.36%\n"
     ]
    }
   ],
   "source": [
    "from sklearn.naive_bayes import GaussianNB\n",
    "nb = GaussianNB()\n",
    "nb.fit(X_train, y_train)\n",
    "\n",
    "nb_score = nb.score(X_test,y_test)\n",
    "print(\"Accuracy of Naive Bayes: {:.2f}%\".format(nb_score*100))"
   ]
  },
  {
   "cell_type": "code",
   "execution_count": 69,
   "metadata": {},
   "outputs": [],
   "source": [
    "from sklearn.metrics import roc_curve, roc_auc_score\n",
    "classifiers = [RandomForestClassifier(random_state=42,criterion='gini',max_features='auto',n_estimators=400),\n",
    "              LogisticRegression(random_state=42, C=1,solver='liblinear'),\n",
    "              GaussianNB()]"
   ]
  },
  {
   "cell_type": "code",
   "execution_count": 72,
   "metadata": {},
   "outputs": [],
   "source": [
    "result_table = pd.DataFrame(columns=['classifiers', 'fpr','tpr','auc'])\n",
    "for classifier in classifiers:\n",
    "    model = classifier.fit(X_train, y_train)\n",
    "    yproba = model.predict_proba(X_test)[:,1]\n",
    "    \n",
    "    fpr, tpr, _ = roc_curve(y_test,  yproba)\n",
    "    auc = roc_auc_score(y_test, yproba)\n",
    "    \n",
    "    result_table = result_table.append({'classifiers':classifier.__class__.__name__,\n",
    "                                        'fpr':fpr, \n",
    "                                        'tpr':tpr, \n",
    "                                        'auc':auc}, ignore_index=True)"
   ]
  },
  {
   "cell_type": "code",
   "execution_count": 74,
   "metadata": {},
   "outputs": [],
   "source": [
    "result_table = result_table.set_index('classifiers')"
   ]
  },
  {
   "cell_type": "code",
   "execution_count": 77,
   "metadata": {},
   "outputs": [
    {
     "data": {
      "text/plain": [
       "['RandomForestClassifier', 'LogisticRegression', 'GaussianNB']"
      ]
     },
     "execution_count": 77,
     "metadata": {},
     "output_type": "execute_result"
    }
   ],
   "source": [
    "result_table.index.tolist()"
   ]
  },
  {
   "cell_type": "code",
   "execution_count": 97,
   "metadata": {},
   "outputs": [
    {
     "data": {
      "text/plain": [
       "<matplotlib.legend.Legend at 0x24b0cef8ec8>"
      ]
     },
     "execution_count": 97,
     "metadata": {},
     "output_type": "execute_result"
    },
    {
     "data": {
      "image/png": "[encoded data removed]",
      "text/plain": [
       "<Figure size 720x432 with 1 Axes>"
      ]
     },
     "metadata": {
      "needs_background": "light"
     },
     "output_type": "display_data"
    }
   ],
   "source": [
    "plt.figure(figsize=(10,6))\n",
    "for model in result_table.index.tolist():\n",
    "    plt.plot(result_table.loc[model]['fpr'],\n",
    "             result_table.loc[model]['tpr'],\n",
    "             label= '{}, AUC={:.2f}'.format(model, result_table.loc[model]['auc']))\n",
    "plt.plot([0,1],[0,1],linestyle='--')\n",
    "plt.xlabel('False Positive Rate', fontsize=15)\n",
    "plt.ylabel('True Poistive Rate', fontsize =15)\n",
    "plt.title('ROC Curve Analysis', fontweight='bold', fontsize=15)\n",
    "plt.legend()"
   ]
  }
 ],
 "metadata": {
  "kernelspec": {
   "display_name": "Python 3",
   "language": "python",
   "name": "python3"
  },
  "language_info": {
   "codemirror_mode": {
    "name": "ipython",
    "version": 3
   },
   "file_extension": ".py",
   "mimetype": "text/x-python",
   "name": "python",
   "nbconvert_exporter": "python",
   "pygments_lexer": "ipython3",
   "version": "3.7.4"
  }
 },
 "nbformat": 4,
 "nbformat_minor": 2
}
